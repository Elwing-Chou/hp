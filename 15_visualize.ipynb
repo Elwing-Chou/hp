{
  "nbformat": 4,
  "nbformat_minor": 0,
  "metadata": {
    "colab": {
      "provenance": [],
      "mount_file_id": "1OnkoxHwg8yXRHvd6AQcydzkmeZLRRfCO",
      "authorship_tag": "ABX9TyNK45dvEW9gwcO6pt74fCz6",
      "include_colab_link": true
    },
    "kernelspec": {
      "name": "python3",
      "display_name": "Python 3"
    },
    "language_info": {
      "name": "python"
    }
  },
  "cells": [
    {
      "cell_type": "markdown",
      "metadata": {
        "id": "view-in-github",
        "colab_type": "text"
      },
      "source": [
        "<a href=\"https://colab.research.google.com/github/Elwing-Chou/hp/blob/main/15_visualize.ipynb\" target=\"_parent\"><img src=\"https://colab.research.google.com/assets/colab-badge.svg\" alt=\"Open In Colab\"/></a>"
      ]
    },
    {
      "cell_type": "code",
      "execution_count": null,
      "metadata": {
        "id": "5zaLvgmt3HWw"
      },
      "outputs": [],
      "source": [
        "import urllib.request as req\n",
        "url = \"https://github.com/Elwing-Chou/hp/raw/main/titanic.csv\"\n",
        "req.urlretrieve(url, \"titanic.csv\")"
      ]
    },
    {
      "cell_type": "code",
      "source": [
        "import pandas as pd\n",
        "df = pd.read_csv(\"titanic.csv\", encoding=\"utf-8\")\n",
        "df"
      ],
      "metadata": {
        "id": "tOvOG7BX3qJu"
      },
      "execution_count": null,
      "outputs": []
    },
    {
      "cell_type": "code",
      "source": [
        "df[\"Embarked\"].value_counts()"
      ],
      "metadata": {
        "colab": {
          "base_uri": "https://localhost:8080/"
        },
        "id": "smsoBw_54-7v",
        "outputId": "77f84269-2408-468d-a5b7-970e8a64cd16"
      },
      "execution_count": 6,
      "outputs": [
        {
          "output_type": "execute_result",
          "data": {
            "text/plain": [
              "S    644\n",
              "C    168\n",
              "Q     77\n",
              "Name: Embarked, dtype: int64"
            ]
          },
          "metadata": {},
          "execution_count": 6
        }
      ]
    }
  ]
}