{
  "nbformat": 4,
  "nbformat_minor": 0,
  "metadata": {
    "colab": {
      "provenance": [],
      "authorship_tag": "ABX9TyO33QVLQD8wCJm8T65Wxfo0",
      "include_colab_link": true
    },
    "kernelspec": {
      "name": "python3",
      "display_name": "Python 3"
    },
    "language_info": {
      "name": "python"
    }
  },
  "cells": [
    {
      "cell_type": "markdown",
      "metadata": {
        "id": "view-in-github",
        "colab_type": "text"
      },
      "source": [
        "<a href=\"https://colab.research.google.com/github/Elwing-Chou/hp/blob/main/16_danmu.ipynb\" target=\"_parent\"><img src=\"https://colab.research.google.com/assets/colab-badge.svg\" alt=\"Open In Colab\"/></a>"
      ]
    },
    {
      "cell_type": "markdown",
      "source": [
        "```python\n",
        "# import json\n",
        "# import requests\n",
        "# url = \"https://ani.gamer.com.tw/ajax/danmuGet.php\"\n",
        "# datas = {\"sn\": \"23505\"}\n",
        "# h = {\n",
        "#     \"user-agent\":\"Mozilla/5.0 (Windows NT 10.0; Win64; x64) AppleWebKit/537.36 (KHTML, like Gecko) Chrome/111.0.0.0 Safari/537.36\"\n",
        "# }\n",
        "# response = requests.post(url, datas, headers=h)\n",
        "# result = json.loads(response.text)\n",
        "# with open(\"danmu.txt\", \"w\", encoding=\"utf-8\") as f:\n",
        "#     json.dump(result, f, ensure_ascii=False, indent=4)\n",
        "```"
      ],
      "metadata": {
        "id": "i-JD2A6wKR92"
      }
    },
    {
      "cell_type": "code",
      "execution_count": 1,
      "metadata": {
        "colab": {
          "base_uri": "https://localhost:8080/"
        },
        "id": "SHEFMrQrKOas",
        "outputId": "4870ceb3-7132-4623-8d08-ce45542814e4"
      },
      "outputs": [
        {
          "output_type": "execute_result",
          "data": {
            "text/plain": [
              "('danmu', <http.client.HTTPMessage at 0x7b0f40910430>)"
            ]
          },
          "metadata": {},
          "execution_count": 1
        }
      ],
      "source": [
        "import urllib.request as req\n",
        "url = \"https://github.com/Elwing-Chou/hp/raw/main/danmu.txt\"\n",
        "req.urlretrieve(url, \"danmu\")"
      ]
    },
    {
      "cell_type": "code",
      "source": [
        "import pandas as pd\n",
        "df = pd.read_json(\"danmu\", encoding=\"utf-8\")\n",
        "df"
      ],
      "metadata": {
        "id": "phbEpmm4LoJc"
      },
      "execution_count": null,
      "outputs": []
    },
    {
      "cell_type": "code",
      "source": [
        "df.groupby(\"userid\").head(1)"
      ],
      "metadata": {
        "id": "LuPNZUdnMFDy"
      },
      "execution_count": null,
      "outputs": []
    },
    {
      "cell_type": "code",
      "source": [],
      "metadata": {
        "id": "aiykwg2dMWgP"
      },
      "execution_count": null,
      "outputs": []
    }
  ]
}